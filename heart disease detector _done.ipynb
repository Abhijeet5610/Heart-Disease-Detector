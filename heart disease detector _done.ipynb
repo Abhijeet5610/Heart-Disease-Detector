{
 "cells": [
  {
   "cell_type": "markdown",
   "id": "475868fb",
   "metadata": {},
   "source": [
    "HEART DISEASE DETECTOR"
   ]
  },
  {
   "cell_type": "code",
   "execution_count": 1,
   "id": "c2c588ca",
   "metadata": {},
   "outputs": [],
   "source": [
    "import numpy as np\n",
    "import matplotlib.pyplot as plt\n",
    "import pandas as pd\n",
    "import seaborn as sns\n",
    "import tensorflow as tf\n",
    "from tensorflow import keras"
   ]
  },
  {
   "cell_type": "code",
   "execution_count": 2,
   "id": "ff24e423",
   "metadata": {},
   "outputs": [],
   "source": [
    "df = pd.read_csv('dataset heart disease.csv')"
   ]
  },
  {
   "cell_type": "code",
   "execution_count": 3,
   "id": "e0fa899b",
   "metadata": {},
   "outputs": [
    {
     "data": {
      "text/html": [
       "<div>\n",
       "<style scoped>\n",
       "    .dataframe tbody tr th:only-of-type {\n",
       "        vertical-align: middle;\n",
       "    }\n",
       "\n",
       "    .dataframe tbody tr th {\n",
       "        vertical-align: top;\n",
       "    }\n",
       "\n",
       "    .dataframe thead th {\n",
       "        text-align: right;\n",
       "    }\n",
       "</style>\n",
       "<table border=\"1\" class=\"dataframe\">\n",
       "  <thead>\n",
       "    <tr style=\"text-align: right;\">\n",
       "      <th></th>\n",
       "      <th>age</th>\n",
       "      <th>sex</th>\n",
       "      <th>chest pain type</th>\n",
       "      <th>resting bp s</th>\n",
       "      <th>cholesterol</th>\n",
       "      <th>fasting blood sugar</th>\n",
       "      <th>resting ecg</th>\n",
       "      <th>max heart rate</th>\n",
       "      <th>exercise angina</th>\n",
       "      <th>oldpeak</th>\n",
       "      <th>ST slope</th>\n",
       "      <th>target</th>\n",
       "    </tr>\n",
       "  </thead>\n",
       "  <tbody>\n",
       "    <tr>\n",
       "      <th>0</th>\n",
       "      <td>40</td>\n",
       "      <td>1</td>\n",
       "      <td>2</td>\n",
       "      <td>140</td>\n",
       "      <td>289</td>\n",
       "      <td>0</td>\n",
       "      <td>0</td>\n",
       "      <td>172</td>\n",
       "      <td>0</td>\n",
       "      <td>0.0</td>\n",
       "      <td>1</td>\n",
       "      <td>0</td>\n",
       "    </tr>\n",
       "    <tr>\n",
       "      <th>1</th>\n",
       "      <td>49</td>\n",
       "      <td>0</td>\n",
       "      <td>3</td>\n",
       "      <td>160</td>\n",
       "      <td>180</td>\n",
       "      <td>0</td>\n",
       "      <td>0</td>\n",
       "      <td>156</td>\n",
       "      <td>0</td>\n",
       "      <td>1.0</td>\n",
       "      <td>2</td>\n",
       "      <td>1</td>\n",
       "    </tr>\n",
       "    <tr>\n",
       "      <th>2</th>\n",
       "      <td>37</td>\n",
       "      <td>1</td>\n",
       "      <td>2</td>\n",
       "      <td>130</td>\n",
       "      <td>283</td>\n",
       "      <td>0</td>\n",
       "      <td>1</td>\n",
       "      <td>98</td>\n",
       "      <td>0</td>\n",
       "      <td>0.0</td>\n",
       "      <td>1</td>\n",
       "      <td>0</td>\n",
       "    </tr>\n",
       "    <tr>\n",
       "      <th>3</th>\n",
       "      <td>48</td>\n",
       "      <td>0</td>\n",
       "      <td>4</td>\n",
       "      <td>138</td>\n",
       "      <td>214</td>\n",
       "      <td>0</td>\n",
       "      <td>0</td>\n",
       "      <td>108</td>\n",
       "      <td>1</td>\n",
       "      <td>1.5</td>\n",
       "      <td>2</td>\n",
       "      <td>1</td>\n",
       "    </tr>\n",
       "    <tr>\n",
       "      <th>4</th>\n",
       "      <td>54</td>\n",
       "      <td>1</td>\n",
       "      <td>3</td>\n",
       "      <td>150</td>\n",
       "      <td>195</td>\n",
       "      <td>0</td>\n",
       "      <td>0</td>\n",
       "      <td>122</td>\n",
       "      <td>0</td>\n",
       "      <td>0.0</td>\n",
       "      <td>1</td>\n",
       "      <td>0</td>\n",
       "    </tr>\n",
       "  </tbody>\n",
       "</table>\n",
       "</div>"
      ],
      "text/plain": [
       "   age  sex  chest pain type  resting bp s  cholesterol  fasting blood sugar  \\\n",
       "0   40    1                2           140          289                    0   \n",
       "1   49    0                3           160          180                    0   \n",
       "2   37    1                2           130          283                    0   \n",
       "3   48    0                4           138          214                    0   \n",
       "4   54    1                3           150          195                    0   \n",
       "\n",
       "   resting ecg  max heart rate  exercise angina  oldpeak  ST slope  target  \n",
       "0            0             172                0      0.0         1       0  \n",
       "1            0             156                0      1.0         2       1  \n",
       "2            1              98                0      0.0         1       0  \n",
       "3            0             108                1      1.5         2       1  \n",
       "4            0             122                0      0.0         1       0  "
      ]
     },
     "execution_count": 3,
     "metadata": {},
     "output_type": "execute_result"
    }
   ],
   "source": [
    "df.head()"
   ]
  },
  {
   "cell_type": "code",
   "execution_count": 4,
   "id": "051510bb",
   "metadata": {},
   "outputs": [],
   "source": [
    "df = pd.get_dummies(df, drop_first=True)"
   ]
  },
  {
   "cell_type": "code",
   "execution_count": 5,
   "id": "06f497c6",
   "metadata": {},
   "outputs": [],
   "source": [
    "X = df.drop('target', axis=1).values\n",
    "y = df['target'].values.reshape(-1, 1)"
   ]
  },
  {
   "cell_type": "code",
   "execution_count": 6,
   "id": "c6f4ea4e",
   "metadata": {},
   "outputs": [],
   "source": [
    "X = (X - np.mean(X, axis=0)) / np.std(X, axis=0)"
   ]
  },
  {
   "cell_type": "code",
   "execution_count": 7,
   "id": "aadc4535",
   "metadata": {},
   "outputs": [],
   "source": [
    "from sklearn.model_selection import train_test_split\n",
    "X_train, X_test, y_train, y_test = train_test_split(X, y, test_size=0.2, random_state=42)"
   ]
  },
  {
   "cell_type": "code",
   "execution_count": 8,
   "id": "b984de16",
   "metadata": {},
   "outputs": [],
   "source": [
    "import numpy as np\n",
    "\n",
    "def gini_index(groups, classes):\n",
    "    n_instances = sum([len(group) for group in groups])\n",
    "    gini = 0.0\n",
    "    for group in groups:\n",
    "        size = len(group)\n",
    "        if size == 0:\n",
    "            continue\n",
    "        score = 0.0\n",
    "        _, y = zip(*group)\n",
    "        for class_val in classes:\n",
    "            p = y.count(class_val) / size\n",
    "            score += p * p\n",
    "        gini += (1.0 - score) * (size / n_instances)\n",
    "    return gini\n",
    "\n",
    "def test_split(index, value, dataset):\n",
    "    left, right = [], []\n",
    "    for row in dataset:\n",
    "        if row[0][index] < value:\n",
    "            left.append(row)\n",
    "        else:\n",
    "            right.append(row)\n",
    "    return left, right\n",
    "\n",
    "def get_split(dataset):\n",
    "    class_values = list(set(row[1] for row in dataset))\n",
    "    b_index, b_value, b_score, b_groups = 999, 999, 999, None\n",
    "    for index in range(len(dataset[0][0])):\n",
    "        for row in dataset:\n",
    "            groups = test_split(index, row[0][index], dataset)\n",
    "            gini = gini_index(groups, class_values)\n",
    "            if gini < b_score:\n",
    "                b_index, b_value, b_score, b_groups = index, row[0][index], gini, groups\n",
    "    return {'index': b_index, 'value': b_value, 'groups': b_groups}\n"
   ]
  },
  {
   "cell_type": "code",
   "execution_count": 9,
   "id": "75636107",
   "metadata": {},
   "outputs": [],
   "source": [
    "def to_terminal(group):\n",
    "    outcomes = [row[1] for row in group]\n",
    "    return max(set(outcomes), key=outcomes.count)\n",
    "\n",
    "def split(node, max_depth, min_size, depth):\n",
    "    left, right = node['groups']\n",
    "    del(node['groups'])\n",
    "\n",
    "    if not left or not right:\n",
    "        node['left'] = node['right'] = to_terminal(left + right)\n",
    "        return\n",
    "\n",
    "    if depth >= max_depth:\n",
    "        node['left'], node['right'] = to_terminal(left), to_terminal(right)\n",
    "        return\n",
    "\n",
    "    if len(left) <= min_size:\n",
    "        node['left'] = to_terminal(left)\n",
    "    else:\n",
    "        node['left'] = get_split(left)\n",
    "        split(node['left'], max_depth, min_size, depth+1)\n",
    "\n",
    "    if len(right) <= min_size:\n",
    "        node['right'] = to_terminal(right)\n",
    "    else:\n",
    "        node['right'] = get_split(right)\n",
    "        split(node['right'], max_depth, min_size, depth+1)\n"
   ]
  },
  {
   "cell_type": "code",
   "execution_count": 10,
   "id": "e4a5e65a",
   "metadata": {},
   "outputs": [],
   "source": [
    "def build_tree(train, max_depth, min_size):\n",
    "    root = get_split(train)\n",
    "    split(root, max_depth, min_size, 1)\n",
    "    return root\n",
    "\n",
    "def predict(node, row):\n",
    "    if row[node['index']] < node['value']:\n",
    "        if isinstance(node['left'], dict):\n",
    "            return predict(node['left'], row)\n",
    "        else:\n",
    "            return node['left']\n",
    "    else:\n",
    "        if isinstance(node['right'], dict):\n",
    "            return predict(node['right'], row)\n",
    "        else:\n",
    "            return node['right']\n"
   ]
  },
  {
   "cell_type": "code",
   "execution_count": 25,
   "id": "b8a3d29c",
   "metadata": {},
   "outputs": [],
   "source": [
    "import random\n",
    "from collections import Counter\n",
    "\n",
    "def subsample(dataset, ratio):\n",
    "    sample = []\n",
    "    n_sample = round(len(dataset) * ratio)\n",
    "    while len(sample) < n_sample:\n",
    "        index = random.randrange(len(dataset))\n",
    "        sample.append(dataset[index])\n",
    "    return sample\n",
    "\n",
    "def bagging_predict(trees, row):\n",
    "    predictions = [predict(tree, row) for tree in trees]\n",
    "    return Counter(predictions).most_common(1)[0][0]\n",
    "\n",
    "def random_forest(train, test, max_depth, min_size, sample_size, n_trees):\n",
    "    trees = []\n",
    "    for _ in range(n_trees):\n",
    "        sample = subsample(train, sample_size)\n",
    "        tree = build_tree(sample, max_depth, min_size)\n",
    "        trees.append(tree)\n",
    "\n",
    "    predictions = [bagging_predict(trees, row[0]) for row in test]\n",
    "    actuals = [row[1] for row in test]\n",
    "    accuracy = sum([1 for i in range(len(predictions)) if predictions[i] == actuals[i]]) / len(actuals)\n",
    "    print(f\" Random Forest Accuracy: {accuracy * 100:.2f}%\")\n",
    "    return predictions, actuals\n"
   ]
  },
  {
   "cell_type": "code",
   "execution_count": 26,
   "id": "57384f93",
   "metadata": {},
   "outputs": [],
   "source": [
    "data = list(zip(X_train, y_train.ravel()))\n",
    "test = list(zip(X_test, y_test.ravel()))\n"
   ]
  },
  {
   "cell_type": "code",
   "execution_count": 27,
   "id": "da0416a9",
   "metadata": {},
   "outputs": [
    {
     "name": "stdout",
     "output_type": "stream",
     "text": [
      " Random Forest Accuracy: 91.60%\n"
     ]
    }
   ],
   "source": [
    "preds, trues = random_forest(\n",
    "    train=data,\n",
    "    test=test,\n",
    "    max_depth=10,\n",
    "    min_size=5,\n",
    "    sample_size=0.8,\n",
    "    n_trees=10\n",
    ")\n"
   ]
  },
  {
   "cell_type": "code",
   "execution_count": 28,
   "id": "170ad93f",
   "metadata": {},
   "outputs": [
    {
     "name": "stdout",
     "output_type": "stream",
     "text": [
      "Random Forest Accuracy: 0.9160\n",
      "Random Forest Precision: 0.9111\n",
      "Random Forest Recall: 0.9389\n",
      "Random Forest F1 Score: 0.9248\n",
      "\n",
      "Detailed Classification Report:\n",
      "\n",
      "              precision    recall  f1-score   support\n",
      "\n",
      "           0       0.92      0.89      0.90       107\n",
      "           1       0.91      0.94      0.92       131\n",
      "\n",
      "    accuracy                           0.92       238\n",
      "   macro avg       0.92      0.91      0.91       238\n",
      "weighted avg       0.92      0.92      0.92       238\n",
      "\n"
     ]
    },
    {
     "data": {
      "text/plain": [
       "<Figure size 600x400 with 0 Axes>"
      ]
     },
     "execution_count": 28,
     "metadata": {},
     "output_type": "execute_result"
    },
    {
     "data": {
      "text/plain": [
       "<Figure size 600x400 with 0 Axes>"
      ]
     },
     "metadata": {},
     "output_type": "display_data"
    }
   ],
   "source": [
    "from sklearn.metrics import accuracy_score, precision_score, recall_score, f1_score, classification_report\n",
    "\n",
    "accuracy = accuracy_score(trues, preds)\n",
    "precision = precision_score(trues, preds)\n",
    "recall = recall_score(trues, preds)\n",
    "f1 = f1_score(trues, preds)\n",
    "\n",
    "print(f\"Random Forest Accuracy: {accuracy:.4f}\")\n",
    "print(f\"Random Forest Precision: {precision:.4f}\")\n",
    "print(f\"Random Forest Recall: {recall:.4f}\")\n",
    "print(f\"Random Forest F1 Score: {f1:.4f}\")\n",
    "\n",
    "print(\"\\nDetailed Classification Report:\\n\")\n",
    "print(classification_report(trues, preds))\n",
    "plt.figure(figsize=(6, 4))  "
   ]
  },
  {
   "cell_type": "code",
   "execution_count": 29,
   "id": "5224407d",
   "metadata": {},
   "outputs": [],
   "source": [
    "import itertools\n",
    "\n",
    "def tune_random_forest(train, test, n_trees_list, max_depth_list, min_size_list, sample_size_list):\n",
    "    best_score = 0\n",
    "    best_params = None\n",
    "\n",
    "    for n_trees, max_depth, min_size, sample_size in itertools.product(\n",
    "        n_trees_list, max_depth_list, min_size_list, sample_size_list):\n",
    "\n",
    "        preds, trues = random_forest(\n",
    "            train=train,\n",
    "            test=test,\n",
    "            max_depth=max_depth,\n",
    "            min_size=min_size,\n",
    "            sample_size=sample_size,\n",
    "            n_trees=n_trees\n",
    "        )\n",
    "\n",
    "        from sklearn.metrics import f1_score\n",
    "        f1 = f1_score(trues, preds)\n",
    "\n",
    "        print(f\"Trees: {n_trees}, Depth: {max_depth}, Min Size: {min_size}, Sample Size: {sample_size} => F1: {f1:.4f}\")\n",
    "\n",
    "        if f1 > best_score:\n",
    "            best_score = f1\n",
    "            best_params = (n_trees, max_depth, min_size, sample_size)\n",
    "\n",
    "    print(f\"\\nBest F1 Score: {best_score:.4f} with params: Trees={best_params[0]}, Depth={best_params[1]}, Min Size={best_params[2]}, Sample Size={best_params[3]}\")\n",
    "\n",
    "    return best_params\n"
   ]
  },
  {
   "cell_type": "code",
   "execution_count": 30,
   "id": "49f93766",
   "metadata": {},
   "outputs": [],
   "source": [
    "test_data = list(zip(X_test, y_test.ravel()))\n"
   ]
  },
  {
   "cell_type": "code",
   "execution_count": 31,
   "id": "cbf367c8",
   "metadata": {},
   "outputs": [],
   "source": [
    "def random_forest(train, test, max_depth, min_size, sample_size, n_trees):\n",
    "    trees = []\n",
    "    for _ in range(n_trees):\n",
    "        sample = subsample(train, sample_size)\n",
    "        tree = build_tree(sample, max_depth, min_size)\n",
    "        trees.append(tree)\n",
    "\n",
    "    predictions = [bagging_predict(trees, row[0]) for row in test]\n",
    "    actuals = [row[1] for row in test]\n",
    "    accuracy = sum([1 for i in range(len(predictions)) if predictions[i] == actuals[i]]) / len(actuals)\n",
    "    print(f\" Random Forest Accuracy: {accuracy * 100:.2f}%\")\n",
    "    \n",
    "    return predictions, actuals, trees  \n",
    "\n"
   ]
  },
  {
   "cell_type": "code",
   "execution_count": 36,
   "id": "e76092a2",
   "metadata": {},
   "outputs": [
    {
     "name": "stdout",
     "output_type": "stream",
     "text": [
      " Random Forest Accuracy: 92.44%\n"
     ]
    }
   ],
   "source": [
    "\n",
    "from sklearn.model_selection import train_test_split\n",
    "X_train, X_test, y_train, y_test = train_test_split(X, y, test_size=0.2, random_state=42)\n",
    "\n",
    "\n",
    "train_data = list(zip(X_train, y_train.ravel()))\n",
    "test_data = list(zip(X_test, y_test.ravel()))\n",
    "\n",
    "\n",
    "preds, trues, final_trees = random_forest(\n",
    "    train=train_data,\n",
    "    test=test_data,\n",
    "    max_depth=15,\n",
    "    min_size=5,\n",
    "    sample_size=1.0,\n",
    "    n_trees=15\n",
    ")\n"
   ]
  },
  {
   "cell_type": "code",
   "execution_count": 37,
   "id": "637a9a99",
   "metadata": {},
   "outputs": [
    {
     "name": "stdout",
     "output_type": "stream",
     "text": [
      " Final Test Accuracy: 92.44 %\n",
      " Final Test F1 Score: 0.9323\n"
     ]
    }
   ],
   "source": [
    "from sklearn.metrics import f1_score, accuracy_score\n",
    "\n",
    "print(\" Final Test Accuracy:\", round(accuracy_score(trues, preds) * 100, 2), \"%\")\n",
    "print(\" Final Test F1 Score:\", round(f1_score(trues, preds), 4))\n"
   ]
  },
  {
   "cell_type": "code",
   "execution_count": 38,
   "id": "c7c9a073",
   "metadata": {},
   "outputs": [
    {
     "name": "stdout",
     "output_type": "stream",
     "text": [
      "\n",
      "Classification Report:\n",
      "               precision    recall  f1-score   support\n",
      "\n",
      "           0       0.93      0.90      0.91       107\n",
      "           1       0.92      0.95      0.93       131\n",
      "\n",
      "    accuracy                           0.92       238\n",
      "   macro avg       0.93      0.92      0.92       238\n",
      "weighted avg       0.92      0.92      0.92       238\n",
      "\n"
     ]
    },
    {
     "data": {
      "image/png": "[encoded data removed]",
      "text/plain": [
       "<Figure size 640x480 with 2 Axes>"
      ]
     },
     "metadata": {},
     "output_type": "display_data"
    }
   ],
   "source": [
    "from sklearn.metrics import classification_report, confusion_matrix\n",
    "import seaborn as sns\n",
    "import matplotlib.pyplot as plt\n",
    "\n",
    "print(\"\\nClassification Report:\\n\", classification_report(trues, preds))\n",
    "\n",
    "# Confusion matrix\n",
    "cm = confusion_matrix(trues, preds)\n",
    "sns.heatmap(cm, annot=True, fmt='d', cmap='Blues')\n",
    "plt.xlabel(\"Predicted\")\n",
    "plt.ylabel(\"Actual\")\n",
    "plt.title(\"Confusion Matrix on Final Test Set\")\n",
    "plt.show()\n"
   ]
  },
  {
   "cell_type": "code",
   "execution_count": 39,
   "id": "ae91d0eb",
   "metadata": {},
   "outputs": [
    {
     "name": "stdout",
     "output_type": "stream",
     "text": [
      " Model saved successfully as 'best_random_forest.pkl'\n"
     ]
    }
   ],
   "source": [
    "import pickle\n",
    "with open('best_random_forest.pkl', 'wb') as f:\n",
    "    pickle.dump(final_trees, f)\n",
    "print(\" Model saved successfully as 'best_random_forest.pkl'\")"
   ]
  },
  {
   "cell_type": "code",
   "execution_count": null,
   "id": "e7aa8026",
   "metadata": {},
   "outputs": [],
   "source": []
  }
 ],
 "metadata": {
  "kernelspec": {
   "display_name": "Python 3",
   "language": "python",
   "name": "python3"
  },
  "language_info": {
   "codemirror_mode": {
    "name": "ipython",
    "version": 3
   },
   "file_extension": ".py",
   "mimetype": "text/x-python",
   "name": "python",
   "nbconvert_exporter": "python",
   "pygments_lexer": "ipython3",
   "version": "3.9.12"
  }
 },
 "nbformat": 4,
 "nbformat_minor": 5
}
